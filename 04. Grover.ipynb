{
 "cells": [
  {
   "cell_type": "code",
   "execution_count": null,
   "metadata": {},
   "outputs": [],
   "source": [
    "from qiskit import QuantumCircuit, Aer, execute\n",
    "from qiskit.visualization import plot_histogram\n",
    "import numpy as np\n",
    "\n",
    "# Oracle for Grover's Algorithm - Marks the |11⟩ state\n",
    "def oracle(circuit):\n",
    "    circuit.cz(0, 1)\n",
    "\n",
    "# Diffusion operator (inversion about the mean)\n",
    "def diffuser(nqubits):\n",
    "    qc = QuantumCircuit(nqubits)\n",
    "    qc.h(range(nqubits))  # Apply Hadamard on all qubits\n",
    "    qc.x(range(nqubits))  # Apply X (NOT) on all qubits\n",
    "    \n",
    "    # Multi-controlled Z gate\n",
    "    qc.h(nqubits - 1)\n",
    "    qc.mct(list(range(nqubits - 1)), nqubits - 1)  # Multi-controlled Toffoli\n",
    "    qc.h(nqubits - 1)\n",
    "    \n",
    "    qc.x(range(nqubits))  # Apply X (NOT) on all qubits\n",
    "    qc.h(range(nqubits))  # Apply Hadamard on all qubits\n",
    "    return qc\n",
    "\n",
    "# Number of qubits\n",
    "nqubits = 2\n",
    "grover_circuit = QuantumCircuit(nqubits)\n",
    "\n",
    "# Step 1: Apply Hadamard gates to all qubits\n",
    "grover_circuit.h(range(nqubits))\n",
    "\n",
    "# Step 2: Apply the oracle\n",
    "oracle(grover_circuit)\n",
    "\n",
    "# Step 3: Apply the diffuser\n",
    "grover_circuit.append(diffuser(nqubits), range(nqubits))\n",
    "\n",
    "# Step 4: Measurement\n",
    "grover_circuit.measure_all()\n",
    "\n",
    "# Run the quantum circuit\n",
    "simulator = Aer.get_backend('qasm_simulator')\n",
    "result = execute(grover_circuit, backend=simulator, shots=1024).result()\n",
    "counts = result.get_counts()\n",
    "\n",
    "# Plot the result\n",
    "plot_histogram(counts)"
   ]
  }
 ],
 "metadata": {
  "language_info": {
   "name": "python"
  }
 },
 "nbformat": 4,
 "nbformat_minor": 2
}

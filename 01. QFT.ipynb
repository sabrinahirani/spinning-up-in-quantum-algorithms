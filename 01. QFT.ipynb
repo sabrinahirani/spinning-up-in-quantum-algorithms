{
 "cells": [
  {
   "cell_type": "code",
   "execution_count": 35,
   "metadata": {},
   "outputs": [
    {
     "data": {
      "text/html": [
       "<pre style=\"word-wrap: normal;white-space: pre;background: #fff0;line-height: 1.1;font-family: &quot;Courier New&quot;,Courier,monospace\">           initial_state ┌───┐                                         »\n",
       "q_0: ────────────░───────┤ H ├─■────────■─────────────■────────────────»\n",
       "     ┌───┐       ░       └───┘ │P(π/2)  │       ┌───┐ │                »\n",
       "q_1: ┤ X ├───────░─────────────■────────┼───────┤ H ├─┼────────■───────»\n",
       "     ├───┤       ░                      │P(π/4) └───┘ │        │P(π/2) »\n",
       "q_2: ┤ X ├───────░──────────────────────■─────────────┼────────■───────»\n",
       "     └───┘       ░                                    │P(π/8)          »\n",
       "q_3: ────────────░────────────────────────────────────■────────────────»\n",
       "                 ░                                                     »\n",
       "«                                  final_state \n",
       "«q_0: ──────────────────────────────────░──────\n",
       "«                                       ░      \n",
       "«q_1: ─■────────────────────────────────░──────\n",
       "«      │       ┌───┐                    ░      \n",
       "«q_2: ─┼───────┤ H ├─■──────────────────░──────\n",
       "«      │P(π/4) └───┘ │P(π/2) ┌───┐      ░      \n",
       "«q_3: ─■─────────────■───────┤ H ├──────░──────\n",
       "«                            └───┘      ░      </pre>"
      ],
      "text/plain": [
       "           initial_state ┌───┐                                         »\n",
       "q_0: ────────────░───────┤ H ├─■────────■─────────────■────────────────»\n",
       "     ┌───┐       ░       └───┘ │P(π/2)  │       ┌───┐ │                »\n",
       "q_1: ┤ X ├───────░─────────────■────────┼───────┤ H ├─┼────────■───────»\n",
       "     ├───┤       ░                      │P(π/4) └───┘ │        │P(π/2) »\n",
       "q_2: ┤ X ├───────░──────────────────────■─────────────┼────────■───────»\n",
       "     └───┘       ░                                    │P(π/8)          »\n",
       "q_3: ────────────░────────────────────────────────────■────────────────»\n",
       "                 ░                                                     »\n",
       "«                                  final_state \n",
       "«q_0: ──────────────────────────────────░──────\n",
       "«                                       ░      \n",
       "«q_1: ─■────────────────────────────────░──────\n",
       "«      │       ┌───┐                    ░      \n",
       "«q_2: ─┼───────┤ H ├─■──────────────────░──────\n",
       "«      │P(π/4) └───┘ │P(π/2) ┌───┐      ░      \n",
       "«q_3: ─■─────────────■───────┤ H ├──────░──────\n",
       "«                            └───┘      ░      "
      ]
     },
     "execution_count": 35,
     "metadata": {},
     "output_type": "execute_result"
    }
   ],
   "source": [
    "from qiskit import QuantumCircuit\n",
    "\n",
    "import numpy as np\n",
    "\n",
    "n = 4\n",
    "circuit = QuantumCircuit(n)\n",
    "\n",
    "# randomly initialize initial state\n",
    "for q in range(n):\n",
    "    if np.random.rand() > 0.5:\n",
    "        circuit.x(q)\n",
    "\n",
    "circuit.save_statevector(label='initial_state')\n",
    "\n",
    "# quantum fourier transform QFT\n",
    "for q in range(n):\n",
    "    circuit.h(q)\n",
    "    for next_q in range(q+1, n):\n",
    "        circuit.cp( np.pi / (2**(next_q-q)), next_q, q )\n",
    "        \n",
    "circuit.save_statevector(label='final_state')\n",
    "circuit.draw()"
   ]
  },
  {
   "cell_type": "code",
   "execution_count": 43,
   "metadata": {},
   "outputs": [
    {
     "data": {
      "text/plain": [
       "<bound method Result.data of Result(backend_name='aer_simulator', backend_version='0.15.0', qobj_id='', job_id='3cd27980-072d-4c75-83d5-3d0fde7b3abe', success=True, results=[ExperimentResult(shots=1024, success=True, meas_level=2, data=ExperimentResultData(initial_state=Statevector([0.+0.j, 0.+0.j, 0.+0.j, 0.+0.j, 0.+0.j, 0.+0.j, 1.+0.j,\n",
       "             0.+0.j, 0.+0.j, 0.+0.j, 0.+0.j, 0.+0.j, 0.+0.j, 0.+0.j,\n",
       "             0.+0.j, 0.+0.j],\n",
       "            dims=(2, 2, 2, 2)), final_state=Statevector([ 2.50000000e-01-6.12323400e-17j,\n",
       "             -1.76776695e-01+1.76776695e-01j,\n",
       "             -7.65404249e-17-2.50000000e-01j,\n",
       "              1.76776695e-01+1.76776695e-01j,\n",
       "             -2.50000000e-01+6.12323400e-17j,\n",
       "              1.76776695e-01-1.76776695e-01j,\n",
       "              7.65404249e-17+2.50000000e-01j,\n",
       "             -1.76776695e-01-1.76776695e-01j,\n",
       "              2.50000000e-01-6.12323400e-17j,\n",
       "             -1.76776695e-01+1.76776695e-01j,\n",
       "             -7.65404249e-17-2.50000000e-01j,\n",
       "              1.76776695e-01+1.76776695e-01j,\n",
       "             -2.50000000e-01+6.12323400e-17j,\n",
       "              1.76776695e-01-1.76776695e-01j,\n",
       "              7.65404249e-17+2.50000000e-01j,\n",
       "             -1.76776695e-01-1.76776695e-01j],\n",
       "            dims=(2, 2, 2, 2))), header=QobjExperimentHeader(creg_sizes=[], global_phase=0.0, memory_slots=0, n_qubits=4, name='circuit-188', qreg_sizes=[['q', 4]], metadata={}), status=DONE, seed_simulator=1344771723, metadata={'batched_shots_optimization': False, 'required_memory_mb': 1, 'method': 'statevector', 'active_input_qubits': [0, 1, 2, 3], 'device': 'CPU', 'remapped_qubits': False, 'num_qubits': 4, 'num_clbits': 0, 'time_taken': 0.0003873, 'input_qubit_map': [[0, 0], [1, 1], [2, 2], [3, 3]], 'max_memory_mb': 15792, 'measure_sampling': True, 'noise': 'ideal', 'parallel_shots': 1, 'parallel_state_update': 8, 'runtime_parameter_bind': False, 'num_bind_params': 1, 'fusion': {'enabled': True, 'threshold': 14, 'max_fused_qubits': 5, 'applied': False}, 'result_subtypes': {'initial_state': 'single', 'final_state': 'single'}, 'result_types': {'initial_state': 'save_statevector', 'final_state': 'save_statevector'}}, time_taken=0.0003873)], date=2024-08-29T22:55:15.944046, status=COMPLETED, header=None, metadata={'omp_enabled': True, 'parallel_experiments': 1, 'max_memory_mb': 15792, 'max_gpu_memory_mb': 0, 'time_taken_execute': 0.0004988, 'time_taken_parameter_binding': 1.21e-05}, time_taken=0.00838780403137207)>"
      ]
     },
     "execution_count": 43,
     "metadata": {},
     "output_type": "execute_result"
    }
   ],
   "source": [
    "from qiskit_aer import AerSimulator\n",
    "from qiskit.visualization import plot_bloch_multivector\n",
    "\n",
    "simulator = AerSimulator()\n",
    "result = simulator.run(circuit).result()\n",
    "\n",
    "initial_statevector = result.data(0)['initial_state']\n",
    "final_statevector = result.data(0)['final_state']\n",
    "\n",
    "plot_bloch_multivector(initial_statevector)\n",
    "plot_bloch_multivector(final_statevector)"
   ]
  }
 ],
 "metadata": {
  "kernelspec": {
   "display_name": ".venv",
   "language": "python",
   "name": "python3"
  },
  "language_info": {
   "codemirror_mode": {
    "name": "ipython",
    "version": 3
   },
   "file_extension": ".py",
   "mimetype": "text/x-python",
   "name": "python",
   "nbconvert_exporter": "python",
   "pygments_lexer": "ipython3",
   "version": "3.12.5"
  }
 },
 "nbformat": 4,
 "nbformat_minor": 2
}

{
 "cells": [
  {
   "cell_type": "markdown",
   "metadata": {},
   "source": [
    "**Deutsch-Jozsa Algorithm**"
   ]
  },
  {
   "cell_type": "code",
   "execution_count": 31,
   "metadata": {},
   "outputs": [],
   "source": [
    "from qiskit import QuantumCircuit, transpile, assemble\n",
    "from qiskit_aer import AerSimulator\n",
    "from qiskit.visualization import plot_histogram"
   ]
  },
  {
   "cell_type": "code",
   "execution_count": 32,
   "metadata": {},
   "outputs": [
    {
     "data": {
      "text/plain": [
       "'constant'"
      ]
     },
     "execution_count": 32,
     "metadata": {},
     "output_type": "execute_result"
    }
   ],
   "source": [
    "import random\n",
    "\n",
    "# randomly determine whether constant or balanced (feel free to specify manually)\n",
    "oracle_type = random.choice(['constant', 'balanced'])\n",
    "oracle_type"
   ]
  },
  {
   "cell_type": "code",
   "execution_count": 33,
   "metadata": {},
   "outputs": [
    {
     "data": {
      "text/html": [
       "<pre style=\"word-wrap: normal;white-space: pre;background: #fff0;line-height: 1.1;font-family: &quot;Courier New&quot;,Courier,monospace\">     ┌───┐┌───┐┌─┐      \n",
       "q_0: ┤ H ├┤ H ├┤M├──────\n",
       "     ├───┤├───┤└╥┘┌─┐   \n",
       "q_1: ┤ H ├┤ H ├─╫─┤M├───\n",
       "     ├───┤├───┤ ║ └╥┘┌─┐\n",
       "q_2: ┤ H ├┤ H ├─╫──╫─┤M├\n",
       "     ├───┤├───┤ ║  ║ └╥┘\n",
       "q_3: ┤ H ├┤ X ├─╫──╫──╫─\n",
       "     └───┘└───┘ ║  ║  ║ \n",
       "c: 3/═══════════╩══╩══╩═\n",
       "                0  1  2 </pre>"
      ],
      "text/plain": [
       "     ┌───┐┌───┐┌─┐      \n",
       "q_0: ┤ H ├┤ H ├┤M├──────\n",
       "     ├───┤├───┤└╥┘┌─┐   \n",
       "q_1: ┤ H ├┤ H ├─╫─┤M├───\n",
       "     ├───┤├───┤ ║ └╥┘┌─┐\n",
       "q_2: ┤ H ├┤ H ├─╫──╫─┤M├\n",
       "     ├───┤├───┤ ║  ║ └╥┘\n",
       "q_3: ┤ H ├┤ X ├─╫──╫──╫─\n",
       "     └───┘└───┘ ║  ║  ║ \n",
       "c: 3/═══════════╩══╩══╩═\n",
       "                0  1  2 "
      ]
     },
     "execution_count": 33,
     "metadata": {},
     "output_type": "execute_result"
    }
   ],
   "source": [
    "n = 3\n",
    "circuit = QuantumCircuit(n+1, n)\n",
    "\n",
    "# apply hadamard to all qubits\n",
    "circuit.h(range(n))\n",
    "circuit.h(n) # for oracle output qubit\n",
    "\n",
    "if oracle_type == 'balanced':\n",
    "\n",
    "    # define a balanced oracle\n",
    "    for q in range(n):\n",
    "        circuit.cx(q, n)\n",
    "\n",
    "else:\n",
    "\n",
    "    out = random.choice([0, 1])\n",
    "\n",
    "    if out == 1:\n",
    "        circuit.x(n) # flip oracle qubit\n",
    "\n",
    "# apply hadamard to all qubits\n",
    "circuit.h(range(n))\n",
    "\n",
    "circuit.measure(range(n), range(n))\n",
    "\n",
    "circuit.draw()"
   ]
  },
  {
   "cell_type": "code",
   "execution_count": 34,
   "metadata": {},
   "outputs": [
    {
     "data": {
      "image/png": "[encoded data removed]",
      "text/plain": [
       "<Figure size 640x480 with 1 Axes>"
      ]
     },
     "execution_count": 34,
     "metadata": {},
     "output_type": "execute_result"
    }
   ],
   "source": [
    "simulator = AerSimulator()\n",
    "\n",
    "compiled_circuit = transpile(circuit, simulator)\n",
    "\n",
    "res = simulator.run(compiled_circuit).result()\n",
    "counts = res.get_counts()\n",
    "\n",
    "plot_histogram(counts)"
   ]
  }
 ],
 "metadata": {
  "kernelspec": {
   "display_name": ".venv",
   "language": "python",
   "name": "python3"
  },
  "language_info": {
   "codemirror_mode": {
    "name": "ipython",
    "version": 3
   },
   "file_extension": ".py",
   "mimetype": "text/x-python",
   "name": "python",
   "nbconvert_exporter": "python",
   "pygments_lexer": "ipython3",
   "version": "3.12.5"
  }
 },
 "nbformat": 4,
 "nbformat_minor": 2
}
